{
 "cells": [
  {
   "metadata": {},
   "cell_type": "markdown",
   "source": [
    "# K-Means Algorithm\n",
    "\n",
    "This notebook will present the development of the k-means algorithm done by my incredible self !\n",
    "\n",
    "The goal here is not to use scikit-learn straight ahead, but rather to learn by myself how k-means works under the hood and what are the different mechanisms ruling it.\n",
    "\n",
    "So Now lets go baby !"
   ],
   "id": "8a77807f92f26ee"
  },
  {
   "metadata": {
    "ExecuteTime": {
     "end_time": "2024-09-11T07:07:13.326753Z",
     "start_time": "2024-09-11T07:07:08.842719Z"
    }
   },
   "cell_type": "code",
   "source": [
    "import numpy\n",
    "import sklearn\n",
    "from sklearn import datasets\n",
    "\n",
    "### Initialization ###\n",
    "\n",
    "# First set k\n",
    "k = 3\n",
    "# Retrieve the data\n",
    "X = datasets.load_iris().data\n",
    "# First initialization of mu (the matrix of centroids)\n",
    "n_rows = X.shape[0]\n",
    "random_indices = numpy.random.choice(n_rows,k,replace=False)\n",
    "mu = X[random_indices,:] # (k,4) matrix\n",
    "# Affectation matrix\n",
    "A = numpy.zeros((X.shape[0],k))\n",
    "# Distance matrix distances[i,j] is the distance between the datapoint i and the centroid j.\n",
    "distances = numpy.zeros((len(X),k))\n",
    "\n",
    "def calc_affectation_matrix(debug: bool = False) -> numpy.ndarray:\n",
    "    # First, compute the distances of every datapoint to every centroides\n",
    "    for i in range(len(X)):\n",
    "        for j in range(k):\n",
    "            distances[i,j] = numpy.sum(numpy.square(X[i] - mu[j]))\n",
    "    # Print that just for debug purpose\n",
    "    if debug: print(distances, distances.shape)\n",
    "    \n",
    "    # Then, retrieve the argmin (ie. the index of the smallest element in each row)\n",
    "    argmin = numpy.argmin(distances, axis=1)\n",
    "    # Print that just for debug purpose\n",
    "    if debug: print(argmin, argmin.shape)\n",
    "    \n",
    "    # Initialize an affectation matrix to 0 of shape (n,k)\n",
    "    A = numpy.zeros((X.shape[0],k))\n",
    "    for i, j in enumerate(argmin):\n",
    "        # Set only the smallest element to 1\n",
    "        A[i,j] = 1\n",
    "      \n",
    "    # Return it  \n",
    "    return A\n",
    "    \n",
    "def calc_centroïds_matrix():\n",
    "    # Update every centroids j\n",
    "    for j in range(k):\n",
    "        sum_vector_cluster_j = 0\n",
    "        div = 0\n",
    "        for i in range(n_rows):\n",
    "            sum_vector_cluster_j += A[i,j] * X[i]\n",
    "            div += A[i,j]\n",
    "        mu[j] = sum_vector_cluster_j / div\n",
    "        \n",
    "def loss_function():\n",
    "    loss = 0\n",
    "    for i in range(n_rows):\n",
    "        for j in range(k):\n",
    "            if A[i,j]:\n",
    "                loss += distances[i,j]\n",
    "    return loss\n",
    "\n",
    "def verif():\n",
    "    possible_mappings = [[0]*3 for _ in range(3)]\n",
    "    a = numpy.argmax(A, axis=1)\n",
    "    b = datasets.load_iris().target\n",
    "    for el_a, el_b in zip(a, b):\n",
    "        possible_mappings[el_a][el_b] += 1\n",
    "        \n",
    "    mapping = numpy.argmax(possible_mappings, axis=1)\n",
    "    return sum(mapping[predicted] == b[i] for i, predicted in enumerate(a))\n",
    "       \n",
    "previous_loss = -1\n",
    "curr_loss = loss_function()\n",
    "while curr_loss != previous_loss:\n",
    "    print(mu, loss_function())\n",
    "    print()\n",
    "    A = calc_affectation_matrix()\n",
    "    calc_centroïds_matrix()\n",
    "    previous_loss, curr_loss = curr_loss, loss_function()\n",
    "    \n",
    "print(f\"{verif()} predictions were correct out of {n_rows} datapoints\")\n"
   ],
   "id": "fbc121e30a2defb3",
   "outputs": [
    {
     "name": "stdout",
     "output_type": "stream",
     "text": [
      "[[4.4 3.2 1.3 0.2]\n",
      " [6.7 3.3 5.7 2.1]\n",
      " [4.8 3.4 1.6 0.2]] 0\n",
      "\n",
      "[[4.5        3.05555556 1.28888889 0.2       ]\n",
      " [6.33763441 2.90430108 5.01827957 1.72258065]\n",
      " [5.1375     3.35416667 1.77916667 0.37291667]] 246.3799999999999\n",
      "\n",
      "[[4.66111111 3.08888889 1.36666667 0.2       ]\n",
      " [6.31458333 2.89583333 4.97395833 1.703125  ]\n",
      " [5.17777778 3.47222222 1.71111111 0.35555556]] 148.1679673408775\n",
      "\n",
      "[[4.7        3.10952381 1.39047619 0.2       ]\n",
      " [6.30103093 2.88659794 4.95876289 1.69587629]\n",
      " [5.20625    3.540625   1.671875   0.35      ]] 145.78479914158947\n",
      "\n",
      "[[4.7        3.10952381 1.39047619 0.2       ]\n",
      " [6.30103093 2.88659794 4.95876289 1.69587629]\n",
      " [5.20625    3.540625   1.671875   0.35      ]] 145.45269176485036\n",
      "\n",
      "100 predictions were correct out of 150 datapoints\n"
     ]
    }
   ],
   "execution_count": 1
  },
  {
   "metadata": {
    "ExecuteTime": {
     "end_time": "2024-09-10T16:50:49.356565Z",
     "start_time": "2024-09-10T16:50:49.347151Z"
    }
   },
   "cell_type": "code",
   "source": "",
   "id": "879225f88abe2d40",
   "outputs": [
    {
     "name": "stdout",
     "output_type": "stream",
     "text": [
      "Distance euclidienne : 4.0\n"
     ]
    }
   ],
   "execution_count": 51
  }
 ],
 "metadata": {
  "kernelspec": {
   "display_name": "Python 3",
   "language": "python",
   "name": "python3"
  },
  "language_info": {
   "codemirror_mode": {
    "name": "ipython",
    "version": 2
   },
   "file_extension": ".py",
   "mimetype": "text/x-python",
   "name": "python",
   "nbconvert_exporter": "python",
   "pygments_lexer": "ipython2",
   "version": "2.7.6"
  }
 },
 "nbformat": 4,
 "nbformat_minor": 5
}
